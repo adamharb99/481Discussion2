{
  "cells": [
    {
      "cell_type": "markdown",
      "metadata": {
        "id": "2OpN9hOwEkLH"
      },
      "source": [
        "Author: mingchen@fullerton.edu\n",
        "<br>Last Updated: 01/29/24\n",
        "<br>License: CC BY-NC-SA 4.0\n",
        "<br>Recommend to use on google colab with dark theme.\n",
        "<br>Format might show incorrectly elsewhere.\n",
        "<br>\n",
        "<img src=\"https://creativecommons.org/images/deed/cc_blue_x2.png\" alt=\"cc\" width=\"30\"/>\n",
        "<img src=\"https://creativecommons.org/images/deed/attribution_icon_blue_x2.png\" alt=\"cc by\" width=\"30\"/>\n",
        "<img src=\"https://creativecommons.org/images/deed/nc_blue_x2.png\" alt=\"cc nc\" width=\"30\"/>\n",
        "<img src=\"https://creativecommons.org/images/deed/sa_blue_x2.png\" alt=\"cc sa\" width=\"30\"/>"
      ]
    },
    {
      "cell_type": "markdown",
      "metadata": {
        "id": "uhryd9JhBYfl"
      },
      "source": [
        "### <b>Sample Data Retrieval and Processing"
      ]
    },
    {
      "cell_type": "markdown",
      "metadata": {
        "id": "YPmDG4STByoB"
      },
      "source": [
        "Now we got a project question: Does money make people happy?\n",
        "<br>\n",
        "<br> To address this question, what data may we find?\n"
      ]
    },
    {
      "cell_type": "markdown",
      "metadata": {
        "id": "gHGxUuAwvYxc"
      },
      "source": [
        "#### possible data source"
      ]
    },
    {
      "cell_type": "markdown",
      "metadata": {
        "id": "9M-poq5xvddN"
      },
      "source": [
        "Instinctively, we may think about finding how much money people earn, and some kind of measurement of their happiness.\n",
        "<br>\n",
        "<br> How much money people earn can be represented by GDP of a country, and happiness by life satisfaction"
      ]
    },
    {
      "cell_type": "markdown",
      "metadata": {
        "id": "2bYt-3LxBtvG"
      },
      "source": [
        "#### <b>Find Data"
      ]
    },
    {
      "cell_type": "markdown",
      "metadata": {
        "id": "isa345CiBxPZ"
      },
      "source": [
        "Now the next step is to find and retrive data.\n",
        "<br>\n",
        "<br> National GDP can be found on [WEO's website](https://www.imf.org/en/Publications/WEO/weo-database/2023/October), and life satisfaction can be found on [OECD's website](https://stats.oecd.org/Index.aspx?DataSetCode=HSL)"
      ]
    },
    {
      "cell_type": "markdown",
      "metadata": {
        "id": "aeFxxYddxqVu"
      },
      "source": [
        "#### <b>Retriving Data"
      ]
    },
    {
      "cell_type": "markdown",
      "metadata": {
        "id": "Rdh6gfBNx3-M"
      },
      "source": [
        "In this case, we can easily download data from websites, and load them in raw format."
      ]
    },
    {
      "cell_type": "code",
      "execution_count": 123,
      "metadata": {
        "colab": {
          "base_uri": "https://localhost:8080/"
        },
        "id": "smRnQ3I9UTeg",
        "outputId": "da81a7e9-8b85-4e1f-81e2-1b09f3b747bd"
      },
      "outputs": [
        {
          "output_type": "stream",
          "name": "stdout",
          "text": [
            "Drive already mounted at /content/drive; to attempt to forcibly remount, call drive.mount(\"/content/drive\", force_remount=True).\n"
          ]
        }
      ],
      "source": [
        "from google.colab import drive,files\n",
        "drive.mount('/content/drive')\n",
        "#uploaded = files.upload()\n"
      ]
    },
    {
      "cell_type": "markdown",
      "metadata": {
        "id": "SaPXoXF7yZGZ"
      },
      "source": [
        "#### <b>Processing Data"
      ]
    },
    {
      "cell_type": "markdown",
      "metadata": {
        "id": "sypdEnnvydH4"
      },
      "source": [
        "Data we retrive from the websites contain more data than what we are looking for, and now we need to select necessary data from it."
      ]
    },
    {
      "cell_type": "markdown",
      "metadata": {
        "id": "EcqnZp33zA8y"
      },
      "source": [
        "#### Check Data"
      ]
    },
    {
      "cell_type": "markdown",
      "metadata": {
        "id": "goc2N_kXzfr1"
      },
      "source": [
        "##### Happiness"
      ]
    },
    {
      "cell_type": "code",
      "execution_count": 125,
      "metadata": {
        "colab": {
          "base_uri": "https://localhost:8080/"
        },
        "id": "VBWZ0RN_y5uC",
        "outputId": "eea527fb-f6ad-4e80-d1f0-c7aff2ae4294"
      },
      "outputs": [
        {
          "output_type": "stream",
          "name": "stdout",
          "text": [
            "      LOCATION    Country TYPE_VAR Type of indicator VARIABLE  \\\n",
            "0          AUS  Australia  AVERAGE           Average      1_1   \n",
            "1          AUS  Australia  AVERAGE           Average      1_1   \n",
            "2          AUS  Australia  AVERAGE           Average      1_1   \n",
            "3          AUS  Australia  AVERAGE           Average      1_1   \n",
            "4          AUS  Australia  AVERAGE           Average      1_1   \n",
            "...        ...        ...      ...               ...      ...   \n",
            "17544      DEU    Germany      DEP       Deprivation      2_8   \n",
            "17545      DEU    Germany      DEP       Deprivation      2_8   \n",
            "17546      MEX     Mexico      DEP       Deprivation      4_4   \n",
            "17547      CAN     Canada      DEP       Deprivation      4_4   \n",
            "17548      CAN     Canada      DEP       Deprivation      4_4   \n",
            "\n",
            "                        Indicator   WB Current/Future Well-being  SEX  \\\n",
            "0                Household income  CWB        Current Well-being  TOT   \n",
            "1                Household income  CWB        Current Well-being  TOT   \n",
            "2                Household income  CWB        Current Well-being  TOT   \n",
            "3                Household income  CWB        Current Well-being  TOT   \n",
            "4                Household income  CWB        Current Well-being  TOT   \n",
            "...                           ...  ...                       ...  ...   \n",
            "17544                    Earnings  CWB        Current Well-being  TOT   \n",
            "17545                    Earnings  CWB        Current Well-being  TOT   \n",
            "17546  Satisfaction with time use  CWB        Current Well-being  TOT   \n",
            "17547  Satisfaction with time use  CWB        Current Well-being  TOT   \n",
            "17548  Satisfaction with time use  CWB        Current Well-being  TOT   \n",
            "\n",
            "                    Sex  AGE               Age EDUCATION         Education  \\\n",
            "0      Total population  TOT  Total population       TOT  Total population   \n",
            "1      Total population  TOT  Total population       TOT  Total population   \n",
            "2      Total population  TOT  Total population       TOT  Total population   \n",
            "3      Total population  TOT  Total population       TOT  Total population   \n",
            "4      Total population  TOT  Total population       TOT  Total population   \n",
            "...                 ...  ...               ...       ...               ...   \n",
            "17544  Total population  TOT  Total population       TOT  Total population   \n",
            "17545  Total population  TOT  Total population       TOT  Total population   \n",
            "17546  Total population  TOT  Total population       TOT  Total population   \n",
            "17547  Total population  TOT  Total population       TOT  Total population   \n",
            "17548  Total population  TOT  Total population       TOT  Total population   \n",
            "\n",
            "       TIME  Time         Value Flag Codes Flags  \n",
            "0      2004  2004  28476.000000        NaN   NaN  \n",
            "1      2005  2005  28730.000000        NaN   NaN  \n",
            "2      2006  2006  29777.000000        NaN   NaN  \n",
            "3      2007  2007  30911.000000        NaN   NaN  \n",
            "4      2008  2008  32475.000000        NaN   NaN  \n",
            "...     ...   ...           ...        ...   ...  \n",
            "17544  2019  2019     17.635464        NaN   NaN  \n",
            "17545  2020  2020     16.983873        NaN   NaN  \n",
            "17546  2021  2021      7.703481        NaN   NaN  \n",
            "17547  2021  2021      6.200000        NaN   NaN  \n",
            "17548  2022  2022      6.700000        NaN   NaN  \n",
            "\n",
            "[17549 rows x 19 columns]\n"
          ]
        }
      ],
      "source": [
        "import numpy as np\n",
        "import pandas as pd\n",
        "import ipywidgets as widgets\n",
        "\n",
        "hls_all_raw = pd.read_csv(\"/content/drive/MyDrive/CPSC 483 Files/HSL_01032024050122708.csv\", encoding = \"utf-8\")\n",
        "print(hls_all_raw)"
      ]
    },
    {
      "cell_type": "markdown",
      "metadata": {
        "id": "sFHHy96kzpnh"
      },
      "source": [
        "Then we select part of the data from the dataset"
      ]
    },
    {
      "cell_type": "code",
      "execution_count": 126,
      "metadata": {
        "colab": {
          "base_uri": "https://localhost:8080/"
        },
        "id": "jSAsmHBxztTn",
        "outputId": "a964109f-8fb7-4145-a2a2-c498b2548248"
      },
      "outputs": [
        {
          "output_type": "stream",
          "name": "stdout",
          "text": [
            "0                  Household income\n",
            "1                  Household income\n",
            "2                  Household income\n",
            "3                  Household income\n",
            "4                  Household income\n",
            "                    ...            \n",
            "17544                      Earnings\n",
            "17545                      Earnings\n",
            "17546    Satisfaction with time use\n",
            "17547    Satisfaction with time use\n",
            "17548    Satisfaction with time use\n",
            "Name: Indicator, Length: 17549, dtype: object\n",
            "\n",
            "===========================================================\n",
            "\n",
            "         Country                   Indicator Type of indicator  Time  \\\n",
            "0      Australia            Household income           Average  2004   \n",
            "1      Australia            Household income           Average  2005   \n",
            "2      Australia            Household income           Average  2006   \n",
            "3      Australia            Household income           Average  2007   \n",
            "4      Australia            Household income           Average  2008   \n",
            "...          ...                         ...               ...   ...   \n",
            "17544    Germany                    Earnings       Deprivation  2019   \n",
            "17545    Germany                    Earnings       Deprivation  2020   \n",
            "17546     Mexico  Satisfaction with time use       Deprivation  2021   \n",
            "17547     Canada  Satisfaction with time use       Deprivation  2021   \n",
            "17548     Canada  Satisfaction with time use       Deprivation  2022   \n",
            "\n",
            "              Value  \n",
            "0      28476.000000  \n",
            "1      28730.000000  \n",
            "2      29777.000000  \n",
            "3      30911.000000  \n",
            "4      32475.000000  \n",
            "...             ...  \n",
            "17544     17.635464  \n",
            "17545     16.983873  \n",
            "17546      7.703481  \n",
            "17547      6.200000  \n",
            "17548      6.700000  \n",
            "\n",
            "[17549 rows x 5 columns]\n"
          ]
        }
      ],
      "source": [
        "print(hls_all_raw[\"Indicator\"])\n",
        "print(\"\\n===========================================================\\n\")\n",
        "hls_slice = pd.DataFrame(hls_all_raw, columns =[\"Country\",\"Indicator\",\"Type of indicator\",\"Time\",\"Value\"])\n",
        "print(hls_slice)\n"
      ]
    },
    {
      "cell_type": "code",
      "execution_count": null,
      "metadata": {
        "id": "2UA8UpwU5HbB"
      },
      "outputs": [],
      "source": []
    },
    {
      "cell_type": "markdown",
      "metadata": {
        "id": "7EKeZEqSz--u"
      },
      "source": [
        "And then process it into what we need"
      ]
    },
    {
      "cell_type": "code",
      "execution_count": 127,
      "metadata": {
        "colab": {
          "base_uri": "https://localhost:8080/"
        },
        "id": "QiJVzi3Wzx_g",
        "outputId": "bf7e21dd-cc05-418b-c07f-02ebd9afc8ae"
      },
      "outputs": [
        {
          "output_type": "stream",
          "name": "stdout",
          "text": [
            "         Country          Indicator Type of indicator  Time     Value\n",
            "180    Australia  Life satisfaction           Average  2014  7.600000\n",
            "181    Australia  Life satisfaction           Average  2019  7.500000\n",
            "182    Australia  Life satisfaction           Average  2020  7.200000\n",
            "489      Austria  Life satisfaction           Average  2013  7.800000\n",
            "490      Austria  Life satisfaction           Average  2018  8.002416\n",
            "...          ...                ...               ...   ...       ...\n",
            "15227     Canada  Life satisfaction       Deprivation  2017  2.800000\n",
            "15228     Canada  Life satisfaction       Deprivation  2018  2.500000\n",
            "15229     Canada  Life satisfaction       Deprivation  2019  2.500000\n",
            "15230     Canada  Life satisfaction       Deprivation  2020  2.800000\n",
            "15231     Canada  Life satisfaction       Deprivation  2021  2.800000\n",
            "\n",
            "[224 rows x 5 columns]\n",
            "\n",
            "===========================================================\n",
            "\n",
            "Total records:\n",
            "224\n",
            "\n",
            "===========================================================\n",
            "\n",
            "Total Unique Countries:\n",
            "35\n",
            "\n",
            "===========================================================\n",
            "\n",
            "Country List\n",
            "['Australia' 'Austria' 'Belgium' 'Canada' 'Czechia' 'Denmark' 'Finland'\n",
            " 'France' 'Germany' 'Greece' 'Hungary' 'Iceland' 'Ireland' 'Italy' 'Japan'\n",
            " 'Korea' 'Luxembourg' 'Mexico' 'Netherlands' 'New Zealand' 'Norway'\n",
            " 'Poland' 'Portugal' 'Slovak Republic' 'Spain' 'Sweden' 'Switzerland'\n",
            " 'Türkiye' 'United Kingdom' 'Colombia' 'Estonia' 'Israel' 'Latvia'\n",
            " 'Lithuania' 'Slovenia']\n"
          ]
        }
      ],
      "source": [
        "hls_ls = hls_slice.loc[hls_all_raw[\"Indicator\"] == \"Life satisfaction\"] # selecting location that has indicator\n",
        "print(hls_ls)\n",
        "print(\"\\n===========================================================\\n\")\n",
        "print(\"Total records:\")\n",
        "print(len(hls_ls))\n",
        "\n",
        "print(\"\\n===========================================================\\n\")\n",
        "print(\"Total Unique Countries:\")\n",
        "print(len(hls_ls[\"Country\"].unique()))\n",
        "\n",
        "print(\"\\n===========================================================\\n\")\n",
        "print(\"Country List\")\n",
        "print(hls_ls[\"Country\"].unique())"
      ]
    },
    {
      "cell_type": "code",
      "execution_count": 128,
      "metadata": {
        "colab": {
          "base_uri": "https://localhost:8080/"
        },
        "id": "wTggu4b60Xyp",
        "outputId": "ae3581df-e0eb-42da-d9ff-9f2404e535b9"
      },
      "outputs": [
        {
          "output_type": "stream",
          "name": "stdout",
          "text": [
            "\n",
            "===========================================================\n",
            "\n",
            "Total records:\n",
            "31\n",
            "\n",
            "===========================================================\n",
            "\n",
            "Total Unique Countries:\n",
            "31\n",
            "\n",
            "===========================================================\n",
            "\n",
            "Record:\n",
            "               Country          Indicator Type of indicator  Time     Value\n",
            "490            Austria  Life satisfaction           Average  2018  8.002416\n",
            "836            Belgium  Life satisfaction           Average  2018  7.600000\n",
            "1163            Canada  Life satisfaction           Average  2018  8.100000\n",
            "1485           Czechia  Life satisfaction           Average  2018  7.436458\n",
            "1823           Denmark  Life satisfaction           Average  2018  7.761102\n",
            "2166           Finland  Life satisfaction           Average  2018  8.122618\n",
            "2511            France  Life satisfaction           Average  2018  7.254388\n",
            "2855           Germany  Life satisfaction           Average  2018  7.400000\n",
            "3188            Greece  Life satisfaction           Average  2018  6.437686\n",
            "3540           Hungary  Life satisfaction           Average  2018  6.506272\n",
            "3850           Iceland  Life satisfaction           Average  2018  7.921508\n",
            "4148           Ireland  Life satisfaction           Average  2018  8.100000\n",
            "4496             Italy  Life satisfaction           Average  2018  7.074031\n",
            "5125             Korea  Life satisfaction           Average  2018  6.100000\n",
            "5410        Luxembourg  Life satisfaction           Average  2018  7.556332\n",
            "5992       Netherlands  Life satisfaction           Average  2018  7.695520\n",
            "6305       New Zealand  Life satisfaction           Average  2018  7.700000\n",
            "6603            Norway  Life satisfaction           Average  2018  7.980364\n",
            "6940            Poland  Life satisfaction           Average  2018  7.783059\n",
            "7283          Portugal  Life satisfaction           Average  2018  6.689225\n",
            "7587   Slovak Republic  Life satisfaction           Average  2018  7.100000\n",
            "7930             Spain  Life satisfaction           Average  2018  7.300000\n",
            "8276            Sweden  Life satisfaction           Average  2018  7.796567\n",
            "8593       Switzerland  Life satisfaction           Average  2018  7.963366\n",
            "8837           Türkiye  Life satisfaction           Average  2018  5.700000\n",
            "9174    United Kingdom  Life satisfaction           Average  2018  7.710000\n",
            "10096         Colombia  Life satisfaction           Average  2018  8.264853\n",
            "10522          Estonia  Life satisfaction           Average  2018  7.005767\n",
            "11103           Latvia  Life satisfaction           Average  2018  6.737704\n",
            "11425        Lithuania  Life satisfaction           Average  2018  6.382413\n",
            "11895         Slovenia  Life satisfaction           Average  2018  7.310714\n"
          ]
        }
      ],
      "source": [
        "hls_train = hls_ls.loc[hls_ls[\"Time\"] == 2018]\n",
        "hls_train = hls_train.loc[hls_ls[\"Type of indicator\"] == \"Average\"] # what parotion of the data you wanna select & makes sense\n",
        "print(\"\\n===========================================================\\n\")\n",
        "print(\"Total records:\")\n",
        "print(len(hls_train))\n",
        "\n",
        "print(\"\\n===========================================================\\n\")\n",
        "print(\"Total Unique Countries:\")\n",
        "print(len(hls_train[\"Country\"].unique()))\n",
        "\n",
        "print(\"\\n===========================================================\\n\")\n",
        "print(\"Record:\")\n",
        "print(hls_train)"
      ]
    },
    {
      "cell_type": "markdown",
      "metadata": {
        "id": "Xrch-_xU0TG3"
      },
      "source": [
        "Note: If you know which row & col you are looking for in the beginning, you can combine many steps into one."
      ]
    },
    {
      "cell_type": "markdown",
      "metadata": {
        "id": "8UAY63BU0uYh"
      },
      "source": [
        "##### GDP"
      ]
    },
    {
      "cell_type": "code",
      "execution_count": 153,
      "metadata": {
        "colab": {
          "base_uri": "https://localhost:8080/"
        },
        "id": "Df5Vs06p01me",
        "outputId": "ee2cad29-e6b3-45e8-f2c1-16bc6a278a02"
      },
      "outputs": [
        {
          "output_type": "stream",
          "name": "stdout",
          "text": [
            "                                       WEO Country Code  ISO WEO Subject Code  \\\n",
            "0                                                   512  AFG           NGDP_R   \n",
            "1                                                   512  AFG        NGDP_RPCH   \n",
            "2                                                   512  AFG             NGDP   \n",
            "3                                                   512  AFG            NGDPD   \n",
            "4                                                   512  AFG           PPPGDP   \n",
            "...                                                 ...  ...              ...   \n",
            "8621                                                698  ZWE          NGDP_FY   \n",
            "8622                                                698  ZWE              BCA   \n",
            "8623                                                698  ZWE        BCA_NGDPD   \n",
            "8624                                                NaN  NaN              NaN   \n",
            "8625  International Monetary Fund, World Economic Ou...  NaN              NaN   \n",
            "\n",
            "          Country                                 Subject Descriptor  \\\n",
            "0     Afghanistan            Gross domestic product, constant prices   \n",
            "1     Afghanistan            Gross domestic product, constant prices   \n",
            "2     Afghanistan             Gross domestic product, current prices   \n",
            "3     Afghanistan             Gross domestic product, current prices   \n",
            "4     Afghanistan             Gross domestic product, current prices   \n",
            "...           ...                                                ...   \n",
            "8621     Zimbabwe  Gross domestic product corresponding to fiscal...   \n",
            "8622     Zimbabwe                            Current account balance   \n",
            "8623     Zimbabwe                            Current account balance   \n",
            "8624          NaN                                                NaN   \n",
            "8625          NaN                                                NaN   \n",
            "\n",
            "                                          Subject Notes  \\\n",
            "0     Expressed in billions of national currency uni...   \n",
            "1     Annual percentages of constant price GDP are y...   \n",
            "2     Expressed in billions of national currency uni...   \n",
            "3     Values are based upon GDP in national currency...   \n",
            "4     These data form the basis for the country weig...   \n",
            "...                                                 ...   \n",
            "8621  Gross domestic product corresponding to fiscal...   \n",
            "8622  Current account is all transactions other than...   \n",
            "8623  Current account is all transactions other than...   \n",
            "8624                                                NaN   \n",
            "8625                                                NaN   \n",
            "\n",
            "                                               Units     Scale  \\\n",
            "0                                  National currency  Billions   \n",
            "1                                     Percent change       NaN   \n",
            "2                                  National currency  Billions   \n",
            "3                                       U.S. dollars  Billions   \n",
            "4     Purchasing power parity; international dollars  Billions   \n",
            "...                                              ...       ...   \n",
            "8621                               National currency  Billions   \n",
            "8622                                    U.S. dollars  Billions   \n",
            "8623                                  Percent of GDP       NaN   \n",
            "8624                                             NaN       NaN   \n",
            "8625                                             NaN       NaN   \n",
            "\n",
            "                          Country/Series-specific Notes    1980  ...  \\\n",
            "0     Source: National Statistics Office Latest actu...     NaN  ...   \n",
            "1     See notes for:  Gross domestic product, consta...     NaN  ...   \n",
            "2     Source: National Statistics Office Latest actu...     NaN  ...   \n",
            "3     See notes for:  Gross domestic product, curren...     NaN  ...   \n",
            "4     See notes for:  Gross domestic product, curren...     NaN  ...   \n",
            "...                                                 ...     ...  ...   \n",
            "8621  Source: Ministry of Finance or Treasury Latest...     NaN  ...   \n",
            "8622  Source: Reserve Bank of Zimbabwe and Ministry ...  -0.301  ...   \n",
            "8623  See notes for:  Gross domestic product, curren...     NaN  ...   \n",
            "8624                                                NaN     NaN  ...   \n",
            "8625                                                NaN     NaN  ...   \n",
            "\n",
            "          2020      2021       2022        2023        2024          2025  \\\n",
            "0     1,288.87  1,021.60        NaN         NaN         NaN           NaN   \n",
            "1       -2.351   -20.737        NaN         NaN         NaN           NaN   \n",
            "2     1,547.29  1,232.86        NaN         NaN         NaN           NaN   \n",
            "3       20.136    14.941        NaN         NaN         NaN           NaN   \n",
            "4       81.007    67.093        NaN         NaN         NaN           NaN   \n",
            "...        ...       ...        ...         ...         ...           ...   \n",
            "8621  1,380.14  3,187.63  12,292.67  111,864.93  474,084.10  1,102,309.64   \n",
            "8622     0.678     0.348      0.321        0.28      -0.317        -0.411   \n",
            "8623     2.521     0.968      1.019       0.863      -0.673        -0.827   \n",
            "8624       NaN       NaN        NaN         NaN         NaN           NaN   \n",
            "8625       NaN       NaN        NaN         NaN         NaN           NaN   \n",
            "\n",
            "              2026          2027          2028 Estimates Start After  \n",
            "0              NaN           NaN           NaN                2021.0  \n",
            "1              NaN           NaN           NaN                2021.0  \n",
            "2              NaN           NaN           NaN                2021.0  \n",
            "3              NaN           NaN           NaN                2021.0  \n",
            "4              NaN           NaN           NaN                2021.0  \n",
            "...            ...           ...           ...                   ...  \n",
            "8621  2,089,955.60  3,126,416.82  4,128,929.25                2021.0  \n",
            "8622        -0.466        -0.512         -0.55                2022.0  \n",
            "8623        -0.922        -1.081         -1.12                2022.0  \n",
            "8624           NaN           NaN           NaN                   NaN  \n",
            "8625           NaN           NaN           NaN                   NaN  \n",
            "\n",
            "[8626 rows x 59 columns]\n"
          ]
        }
      ],
      "source": [
        "weo_raw = pd.read_csv(\"/content/drive/MyDrive/CPSC 483 Files/WEOOct2023all.xls\", sep = '\\t', encoding = 'cp1252' )\n",
        "print(weo_raw)\n"
      ]
    },
    {
      "cell_type": "markdown",
      "metadata": {
        "id": "lbaohDV31X9G"
      },
      "source": [
        "Note: the raw data is a TSV (tab separated values) file containing a line you need to delete for simple processing at the end. It is already deleted before I upload it to drive."
      ]
    },
    {
      "cell_type": "code",
      "execution_count": 165,
      "metadata": {
        "colab": {
          "base_uri": "https://localhost:8080/"
        },
        "id": "7chPZMbI2PkC",
        "outputId": "24c98c15-8127-4cb3-fbae-6b1043a16e67"
      },
      "outputs": [
        {
          "output_type": "stream",
          "name": "stdout",
          "text": [
            "0\n",
            "          Country     2018\n",
            "18    Afghanistan  113.162\n",
            "19    Afghanistan    0.755\n",
            "62        Albania  105.882\n",
            "63        Albania    1.799\n",
            "106       Algeria   202.96\n",
            "...           ...      ...\n",
            "8511        Yemen    35.89\n",
            "8554       Zambia   216.99\n",
            "8555       Zambia    7.859\n",
            "8598     Zimbabwe   86.048\n",
            "8599     Zimbabwe   42.074\n",
            "\n",
            "[392 rows x 2 columns]\n"
          ]
        }
      ],
      "source": [
        "# Check for missing values in 'WEO Subject Code' column\n",
        "print(weo_raw['WEO Subject Code'].isnull().sum())\n",
        "\n",
        "# Drop rows with missing values in 'WEO Subject Code' column\n",
        "weo_raw = weo_raw.dropna(subset=['WEO Subject Code'])\n",
        "\n",
        "# Apply the filter after dropping missing values\n",
        "weo_selected_measurement = weo_raw.loc[weo_raw['WEO Subject Code'].str.contains(\"PCPIE\")]\n",
        "\n",
        "# Continue with the rest of your code\n",
        "weo_selected_measurement_2018 = pd.DataFrame(weo_selected_measurement, columns=['Country', '2018'])\n",
        "\n",
        "print(weo_selected_measurement_2018)\n",
        "\n"
      ]
    },
    {
      "cell_type": "markdown",
      "metadata": {
        "id": "tLG4g0ByOZIh"
      },
      "source": [
        "#### Clean Data for Training"
      ]
    },
    {
      "cell_type": "code",
      "execution_count": 166,
      "metadata": {
        "colab": {
          "base_uri": "https://localhost:8080/"
        },
        "id": "beoHC2eHOZaF",
        "outputId": "f2b050a0-78e8-4259-ae14-8ef97f29960a"
      },
      "outputs": [
        {
          "output_type": "stream",
          "name": "stdout",
          "text": [
            "            Country  Happiness Measurement Income Measurement\n",
            "0           Austria               8.002416            128.804\n",
            "1           Austria               8.002416              1.715\n",
            "2           Belgium               7.600000             107.39\n",
            "3           Belgium               7.600000              2.198\n",
            "4            Canada               8.100000            134.167\n",
            "5            Canada               8.100000              2.054\n",
            "6           Denmark               7.761102                102\n",
            "7           Denmark               7.761102              0.691\n",
            "8           Finland               8.122618             102.93\n",
            "9           Finland               8.122618              1.319\n",
            "10           France               7.254388              104.2\n",
            "11           France               7.254388              1.927\n",
            "12          Germany               7.400000              104.8\n",
            "13          Germany               7.400000              1.846\n",
            "14           Greece               6.437686             118.52\n",
            "15           Greece               6.437686              0.632\n",
            "16          Hungary               6.506272            118.529\n",
            "17          Hungary               6.506272              2.738\n",
            "18          Iceland               7.921508              164.3\n",
            "19          Iceland               7.921508              3.725\n",
            "20          Ireland               8.100000                101\n",
            "21          Ireland               8.100000              0.698\n",
            "22            Italy               7.074031              103.3\n",
            "23            Italy               7.074031              1.175\n",
            "24            Korea               6.100000             98.988\n",
            "25            Korea               6.100000               1.32\n",
            "26       Luxembourg               7.556332             104.95\n",
            "27       Luxembourg               7.556332              1.953\n",
            "28      Netherlands               7.695520             103.86\n",
            "29      Netherlands               7.695520              1.804\n",
            "30      New Zealand               7.700000            144.407\n",
            "31      New Zealand               7.700000              1.889\n",
            "32           Norway               7.980364              109.8\n",
            "33           Norway               7.980364              3.487\n",
            "34           Poland               7.783059            170.937\n",
            "35           Poland               7.783059                1.1\n",
            "36         Portugal               6.689225             103.02\n",
            "37         Portugal               6.689225              0.635\n",
            "38  Slovak Republic               7.100000             104.25\n",
            "39  Slovak Republic               7.100000              2.006\n",
            "40            Spain               7.300000                104\n",
            "41            Spain               7.300000              1.226\n",
            "42           Sweden               7.796567            105.509\n",
            "43           Sweden               7.796567              2.221\n",
            "44      Switzerland               7.963366            100.981\n",
            "45      Switzerland               7.963366              0.718\n",
            "46          Türkiye               5.700000             393.88\n",
            "47          Türkiye               5.700000             20.302\n",
            "48   United Kingdom               7.710000            107.137\n",
            "49   United Kingdom               7.710000              2.104\n",
            "50         Colombia               8.264853             100.55\n",
            "51         Colombia               8.264853              3.139\n",
            "52          Estonia               7.005767             108.64\n",
            "53          Estonia               7.005767              3.319\n",
            "54           Latvia               6.737704             106.21\n",
            "55           Latvia               6.737704              2.549\n",
            "56        Lithuania               6.382413             107.68\n",
            "57        Lithuania               6.382413              1.758\n",
            "58         Slovenia               7.310714             103.62\n",
            "59         Slovenia               7.310714              1.469\n"
          ]
        }
      ],
      "source": [
        "merged_train_data = pd.merge(hls_train, weo_selected_measurement_2018, on=\"Country\")\n",
        "merged_train_data = merged_train_data.rename(columns={\"Value\": \"Happiness Measurement\", \"2018\": \"Income Measurement\"})\n",
        "merged_train_data = pd.DataFrame(merged_train_data, columns=['Country','Happiness Measurement', 'Income Measurement'])\n",
        "\n",
        "print(merged_train_data)\n"
      ]
    },
    {
      "cell_type": "markdown",
      "metadata": {
        "id": "CRojq5AX40EH"
      },
      "source": [
        "### Fit Model with Data"
      ]
    },
    {
      "cell_type": "markdown",
      "metadata": {
        "id": "7szotq5p4px9"
      },
      "source": [
        "Now we need to think about a model to fit to data.\n",
        "<br>Since a commonly used model in this kind of study is a linear model:\n",
        "<br>\n",
        "<br> &emsp;&emsp;\n",
        " $\\mathrm{Y} = \\alpha + \\beta_{1}  \\mathrm{x}_{1} + \\beta_{2}  \\mathrm{x}_{2} + \\beta_{3}  \\mathrm{x}_{3} + \\ ......$\n",
        "<br>\n",
        "<br>We can try to fit this model to data and see if it works.\n"
      ]
    },
    {
      "cell_type": "code",
      "execution_count": 172,
      "metadata": {
        "colab": {
          "base_uri": "https://localhost:8080/",
          "height": 592,
          "referenced_widgets": [
            "79a0b963fae5411185a7d553bb2d8f0e",
            "48f734975cce432d9016a4e2f3246156",
            "42b7907e1e8d49298e56fc01340fc0f7",
            "1e460496d39446c2ba612b55789dc847",
            "77f5ffebd7354dfdb66e5346a5fbc3a4",
            "3888db5a0c3c4fbda8f5bf763e3374c7"
          ]
        },
        "id": "fDLmsWa64pO1",
        "outputId": "40ef0e59-51bf-4482-c162-2ecd7483d80a"
      },
      "outputs": [
        {
          "output_type": "stream",
          "name": "stdout",
          "text": [
            "Ridge Regression Evaluation:\n",
            "R-squared Score: 0.0234546150331163\n",
            "Mean Squared Error: 0.4217617893845275\n",
            "Mean Absolute Error: 0.5435556410223471\n",
            "\n",
            "Random Forest Regressor Evaluation:\n",
            "R-squared Score: 0.8193795999269433\n",
            "Mean Squared Error: 0.07800844108924336\n",
            "Mean Absolute Error: 0.20442096708628169\n"
          ]
        },
        {
          "output_type": "display_data",
          "data": {
            "text/plain": [
              "HBox(children=(Output(), Output()))"
            ],
            "application/vnd.jupyter.widget-view+json": {
              "version_major": 2,
              "version_minor": 0,
              "model_id": "79a0b963fae5411185a7d553bb2d8f0e"
            }
          },
          "metadata": {}
        }
      ],
      "source": [
        "import numpy as np\n",
        "import matplotlib.pyplot as plt\n",
        "from sklearn.linear_model import Ridge\n",
        "from sklearn.ensemble import RandomForestRegressor\n",
        "from sklearn.metrics import r2_score, mean_squared_error\n",
        "import ipywidgets as widgets\n",
        "from IPython.display import display\n",
        "\n",
        "# Assuming merged_train_data is your dataset\n",
        "\n",
        "X = np.array(merged_train_data[\"Income Measurement\"]).reshape(-1, 1)\n",
        "Y = np.array(merged_train_data[\"Happiness Measurement\"]).reshape(-1, 1)\n",
        "x = X.flatten()\n",
        "y = Y.flatten()\n",
        "\n",
        "# Ridge Regression\n",
        "model_ridge = Ridge()\n",
        "model_ridge.fit(X, Y)\n",
        "predict_y_ridge = model_ridge.predict(X)\n",
        "residuals_ridge = Y - predict_y_ridge\n",
        "\n",
        "# Random Forest Regressor\n",
        "model_rf = RandomForestRegressor()\n",
        "model_rf.fit(X, Y.ravel())  # Use ravel() to ensure Y is a 1D array\n",
        "predict_y_rf = model_rf.predict(X)\n",
        "residuals_rf = Y.ravel() - predict_y_rf\n",
        "\n",
        "# R-squared and MSE for Ridge Regression\n",
        "r2_ridge = r2_score(Y, predict_y_ridge)\n",
        "mse_ridge = mean_squared_error(Y, predict_y_ridge)\n",
        "mae_ridge = np.mean(np.abs(residuals_ridge))\n",
        "\n",
        "# R-squared and MSE for Random Forest Regressor\n",
        "r2_rf = r2_score(Y, predict_y_rf)\n",
        "mse_rf = mean_squared_error(Y, predict_y_rf)\n",
        "mae_rf = np.mean(np.abs(residuals_rf))\n",
        "\n",
        "# Plot residuals for Ridge Regression\n",
        "out2 = widgets.Output()\n",
        "with out2:\n",
        "    plt.scatter(x, residuals_ridge.flatten())  # Flatten residuals_ridge to match the size of x\n",
        "    plt.xlabel('Income')\n",
        "    plt.ylabel('Residuals')\n",
        "    plt.title('Residual Plot (Ridge Regression)')\n",
        "    plt.axhline(y=0, color='r', linestyle='-')\n",
        "    plt.show()\n",
        "\n",
        "# Plot residuals for Random Forest Regressor\n",
        "out3 = widgets.Output()\n",
        "with out3:\n",
        "    plt.scatter(x, residuals_rf.flatten())  # Flatten residuals_rf to match the size of x\n",
        "    plt.xlabel('Income')\n",
        "    plt.ylabel('Residuals')\n",
        "    plt.title('Residual Plot (Random Forest Regressor)')\n",
        "    plt.axhline(y=0, color='r', linestyle='-')\n",
        "    plt.show()\n",
        "\n",
        "# Display R-squared, MSE, and MAE for Ridge Regression\n",
        "print(\"Ridge Regression Evaluation:\")\n",
        "print(\"R-squared Score:\", r2_ridge)\n",
        "print(\"Mean Squared Error:\", mse_ridge)\n",
        "print(\"Mean Absolute Error:\", mae_ridge)\n",
        "\n",
        "# Display R-squared, MSE, and MAE for Random Forest Regressor\n",
        "print(\"\\nRandom Forest Regressor Evaluation:\")\n",
        "print(\"R-squared Score:\", r2_rf)\n",
        "print(\"Mean Squared Error:\", mse_rf)\n",
        "print(\"Mean Absolute Error:\", mae_rf)\n",
        "\n",
        "# Display the plots\n",
        "display(widgets.HBox([out2, out3]))\n",
        "\n",
        "\n",
        "\n"
      ]
    },
    {
      "cell_type": "markdown",
      "metadata": {
        "id": "tQcrIf_T73ku"
      },
      "source": [
        "##### Class Activity"
      ]
    },
    {
      "cell_type": "markdown",
      "metadata": {
        "id": "NNbC5W2276t5"
      },
      "source": [
        "Does the result suggest that people are happier with more money? What potential problems do you think exist throughout the entire process?\n",
        "<br>\n",
        "<br> Consider a different approach (different representation of happiness & income, or a different model). Test your new approach and post in discussion.\n",
        "<br>\n",
        "<br> You may use below section if you find it convenient."
      ]
    },
    {
      "cell_type": "code",
      "execution_count": null,
      "metadata": {
        "id": "gW2A5s-AdzIb"
      },
      "outputs": [],
      "source": []
    }
  ],
  "metadata": {
    "colab": {
      "provenance": []
    },
    "kernelspec": {
      "display_name": "Python 3",
      "name": "python3"
    },
    "language_info": {
      "name": "python"
    },
    "widgets": {
      "application/vnd.jupyter.widget-state+json": {
        "79a0b963fae5411185a7d553bb2d8f0e": {
          "model_module": "@jupyter-widgets/controls",
          "model_name": "HBoxModel",
          "model_module_version": "1.5.0",
          "state": {
            "_dom_classes": [],
            "_model_module": "@jupyter-widgets/controls",
            "_model_module_version": "1.5.0",
            "_model_name": "HBoxModel",
            "_view_count": null,
            "_view_module": "@jupyter-widgets/controls",
            "_view_module_version": "1.5.0",
            "_view_name": "HBoxView",
            "box_style": "",
            "children": [
              "IPY_MODEL_48f734975cce432d9016a4e2f3246156",
              "IPY_MODEL_42b7907e1e8d49298e56fc01340fc0f7"
            ],
            "layout": "IPY_MODEL_1e460496d39446c2ba612b55789dc847"
          }
        },
        "48f734975cce432d9016a4e2f3246156": {
          "model_module": "@jupyter-widgets/output",
          "model_name": "OutputModel",
          "model_module_version": "1.0.0",
          "state": {
            "_dom_classes": [],
            "_model_module": "@jupyter-widgets/output",
            "_model_module_version": "1.0.0",
            "_model_name": "OutputModel",
            "_view_count": null,
            "_view_module": "@jupyter-widgets/output",
            "_view_module_version": "1.0.0",
            "_view_name": "OutputView",
            "layout": "IPY_MODEL_77f5ffebd7354dfdb66e5346a5fbc3a4",
            "msg_id": "",
            "outputs": [
              {
                "output_type": "display_data",
                "data": {
                  "text/plain": "<Figure size 640x480 with 1 Axes>",
                  "image/png": "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\n"
                },
                "metadata": {}
              }
            ]
          }
        },
        "42b7907e1e8d49298e56fc01340fc0f7": {
          "model_module": "@jupyter-widgets/output",
          "model_name": "OutputModel",
          "model_module_version": "1.0.0",
          "state": {
            "_dom_classes": [],
            "_model_module": "@jupyter-widgets/output",
            "_model_module_version": "1.0.0",
            "_model_name": "OutputModel",
            "_view_count": null,
            "_view_module": "@jupyter-widgets/output",
            "_view_module_version": "1.0.0",
            "_view_name": "OutputView",
            "layout": "IPY_MODEL_3888db5a0c3c4fbda8f5bf763e3374c7",
            "msg_id": "",
            "outputs": [
              {
                "output_type": "display_data",
                "data": {
                  "text/plain": "<Figure size 640x480 with 1 Axes>",
                  "image/png": "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\n"
                },
                "metadata": {}
              }
            ]
          }
        },
        "1e460496d39446c2ba612b55789dc847": {
          "model_module": "@jupyter-widgets/base",
          "model_name": "LayoutModel",
          "model_module_version": "1.2.0",
          "state": {
            "_model_module": "@jupyter-widgets/base",
            "_model_module_version": "1.2.0",
            "_model_name": "LayoutModel",
            "_view_count": null,
            "_view_module": "@jupyter-widgets/base",
            "_view_module_version": "1.2.0",
            "_view_name": "LayoutView",
            "align_content": null,
            "align_items": null,
            "align_self": null,
            "border": null,
            "bottom": null,
            "display": null,
            "flex": null,
            "flex_flow": null,
            "grid_area": null,
            "grid_auto_columns": null,
            "grid_auto_flow": null,
            "grid_auto_rows": null,
            "grid_column": null,
            "grid_gap": null,
            "grid_row": null,
            "grid_template_areas": null,
            "grid_template_columns": null,
            "grid_template_rows": null,
            "height": null,
            "justify_content": null,
            "justify_items": null,
            "left": null,
            "margin": null,
            "max_height": null,
            "max_width": null,
            "min_height": null,
            "min_width": null,
            "object_fit": null,
            "object_position": null,
            "order": null,
            "overflow": null,
            "overflow_x": null,
            "overflow_y": null,
            "padding": null,
            "right": null,
            "top": null,
            "visibility": null,
            "width": null
          }
        },
        "77f5ffebd7354dfdb66e5346a5fbc3a4": {
          "model_module": "@jupyter-widgets/base",
          "model_name": "LayoutModel",
          "model_module_version": "1.2.0",
          "state": {
            "_model_module": "@jupyter-widgets/base",
            "_model_module_version": "1.2.0",
            "_model_name": "LayoutModel",
            "_view_count": null,
            "_view_module": "@jupyter-widgets/base",
            "_view_module_version": "1.2.0",
            "_view_name": "LayoutView",
            "align_content": null,
            "align_items": null,
            "align_self": null,
            "border": null,
            "bottom": null,
            "display": null,
            "flex": null,
            "flex_flow": null,
            "grid_area": null,
            "grid_auto_columns": null,
            "grid_auto_flow": null,
            "grid_auto_rows": null,
            "grid_column": null,
            "grid_gap": null,
            "grid_row": null,
            "grid_template_areas": null,
            "grid_template_columns": null,
            "grid_template_rows": null,
            "height": null,
            "justify_content": null,
            "justify_items": null,
            "left": null,
            "margin": null,
            "max_height": null,
            "max_width": null,
            "min_height": null,
            "min_width": null,
            "object_fit": null,
            "object_position": null,
            "order": null,
            "overflow": null,
            "overflow_x": null,
            "overflow_y": null,
            "padding": null,
            "right": null,
            "top": null,
            "visibility": null,
            "width": null
          }
        },
        "3888db5a0c3c4fbda8f5bf763e3374c7": {
          "model_module": "@jupyter-widgets/base",
          "model_name": "LayoutModel",
          "model_module_version": "1.2.0",
          "state": {
            "_model_module": "@jupyter-widgets/base",
            "_model_module_version": "1.2.0",
            "_model_name": "LayoutModel",
            "_view_count": null,
            "_view_module": "@jupyter-widgets/base",
            "_view_module_version": "1.2.0",
            "_view_name": "LayoutView",
            "align_content": null,
            "align_items": null,
            "align_self": null,
            "border": null,
            "bottom": null,
            "display": null,
            "flex": null,
            "flex_flow": null,
            "grid_area": null,
            "grid_auto_columns": null,
            "grid_auto_flow": null,
            "grid_auto_rows": null,
            "grid_column": null,
            "grid_gap": null,
            "grid_row": null,
            "grid_template_areas": null,
            "grid_template_columns": null,
            "grid_template_rows": null,
            "height": null,
            "justify_content": null,
            "justify_items": null,
            "left": null,
            "margin": null,
            "max_height": null,
            "max_width": null,
            "min_height": null,
            "min_width": null,
            "object_fit": null,
            "object_position": null,
            "order": null,
            "overflow": null,
            "overflow_x": null,
            "overflow_y": null,
            "padding": null,
            "right": null,
            "top": null,
            "visibility": null,
            "width": null
          }
        }
      }
    }
  },
  "nbformat": 4,
  "nbformat_minor": 0
}